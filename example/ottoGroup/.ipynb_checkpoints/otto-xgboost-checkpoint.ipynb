{
 "cells": [
  {
   "cell_type": "code",
   "execution_count": 3,
   "metadata": {
    "_cell_guid": "b1076dfc-b9ad-4769-8c92-a6c4dae69d19",
    "_uuid": "8f2839f25d086af736a60e9eeb907d3b93b6e0e5"
   },
   "outputs": [
    {
     "name": "stdout",
     "output_type": "stream",
     "text": [
      "['.DS_Store', 'test.csv', 'train.csv']\n"
     ]
    }
   ],
   "source": [
    "# This Python 3 environment comes with many helpful analytics libraries installed\n",
    "# It is defined by the kaggle/python docker image: https://github.com/kaggle/docker-python\n",
    "# For example, here's several helpful packages to load in \n",
    "\n",
    "import numpy as np # linear algebra\n",
    "import pandas as pd # data processing, CSV file I/O (e.g. pd.read_csv)\n",
    "from xgboost.sklearn import XGBClassifier\n",
    "from sklearn.model_selection import StratifiedShuffleSplit\n",
    "from sklearn.preprocessing import StandardScaler\n",
    "from sklearn.preprocessing import LabelEncoder\n",
    "from collections import Counter\n",
    "from sklearn import decomposition\n",
    "from sklearn.metrics import log_loss\n",
    "from sklearn.calibration import CalibratedClassifierCV\n",
    "from sklearn.ensemble import ExtraTreesClassifier\n",
    "from sklearn.model_selection import GridSearchCV  \n",
    "import imblearn\n",
    "from imblearn.over_sampling import RandomOverSampler\n",
    "from matplotlib import pyplot as plt\n",
    "# Input data files are available in the \"../input/\" directory.\n",
    "# For example, running this (by clicking run or pressing Shift+Enter) will list the files in the input directory\n",
    "\n",
    "import os\n",
    "print(os.listdir(\"data\"))\n",
    "\n",
    "# Any results you write to the current directory are saved as output."
   ]
  },
  {
   "cell_type": "code",
   "execution_count": 2,
   "metadata": {},
   "outputs": [
    {
     "name": "stdout",
     "output_type": "stream",
     "text": [
      "Collecting imblearn\n",
      "  Downloading imblearn-0.0-py2.py3-none-any.whl (1.9 kB)\n",
      "Collecting imbalanced-learn\n",
      "  Downloading imbalanced_learn-0.7.0-py3-none-any.whl (167 kB)\n",
      "\u001b[K     |████████████████████████████████| 167 kB 1.9 MB/s eta 0:00:01\n",
      "\u001b[?25hRequirement already satisfied: scipy>=0.19.1 in /Users/bikash/python/anaconda3/lib/python3.7/site-packages (from imbalanced-learn->imblearn) (1.5.2)\n",
      "Requirement already satisfied: numpy>=1.13.3 in /Users/bikash/python/anaconda3/lib/python3.7/site-packages (from imbalanced-learn->imblearn) (1.19.1)\n",
      "Requirement already satisfied: joblib>=0.11 in /Users/bikash/python/anaconda3/lib/python3.7/site-packages (from imbalanced-learn->imblearn) (0.14.1)\n",
      "Requirement already satisfied: scikit-learn>=0.23 in /Users/bikash/python/anaconda3/lib/python3.7/site-packages (from imbalanced-learn->imblearn) (0.23.2)\n",
      "Requirement already satisfied: threadpoolctl>=2.0.0 in /Users/bikash/python/anaconda3/lib/python3.7/site-packages (from scikit-learn>=0.23->imbalanced-learn->imblearn) (2.1.0)\n",
      "Installing collected packages: imbalanced-learn, imblearn\n",
      "Successfully installed imbalanced-learn-0.7.0 imblearn-0.0\n"
     ]
    }
   ],
   "source": [
    "!pip install imblearn"
   ]
  },
  {
   "cell_type": "code",
   "execution_count": 4,
   "metadata": {
    "_cell_guid": "79c7e3d0-c299-4dcb-8224-4455121ee9b0",
    "_uuid": "d629ff2d2480ee46fbb7e2d37f6b5fab8052498a"
   },
   "outputs": [],
   "source": [
    "# Read training data\n",
    "data = pd.read_csv('data/train.csv')\n",
    "from sklearn.model_selection import train_test_split\n",
    "train_X = data.drop([\"target\",\"id\"], axis=1)"
   ]
  },
  {
   "cell_type": "markdown",
   "metadata": {
    "_uuid": "05f9a6780ded1f8963e6f3a74ab9dd1291065c3b"
   },
   "source": [
    "# Representation of the target with numerical values "
   ]
  },
  {
   "cell_type": "code",
   "execution_count": 5,
   "metadata": {
    "_uuid": "65cbce005771c252f84f34d86c961ff2b3343817"
   },
   "outputs": [],
   "source": [
    "le = LabelEncoder()\n",
    "le.fit(data[\"target\"])\n",
    "train_y = le.transform(data[\"target\"])"
   ]
  },
  {
   "cell_type": "markdown",
   "metadata": {
    "_uuid": "d184c6a35fc4d3164084ad6c39dd57996abc75a8"
   },
   "source": [
    "# Splitting the data (train.csv)"
   ]
  },
  {
   "cell_type": "code",
   "execution_count": 6,
   "metadata": {
    "_uuid": "57b91d36153bb4d5fd5d99eb9d572d538a88567d"
   },
   "outputs": [],
   "source": [
    "# split train set into 2 parts with same distribution: 80% train, 20% validation\n",
    "sss = StratifiedShuffleSplit(n_splits=1, test_size=0.2, random_state=0)\n",
    "for train_index, test_index in sss.split(train_X.values, train_y):\n",
    "    X_train = train_X.values[train_index]\n",
    "    X_val = train_X.values[test_index]\n",
    "\n",
    "    y_train = train_y[train_index]\n",
    "    y_val = train_y[test_index]"
   ]
  },
  {
   "cell_type": "markdown",
   "metadata": {
    "_uuid": "6c260afa93b9c1e8014d83c5636b86ce05347c9b"
   },
   "source": [
    "# Preprocessing"
   ]
  },
  {
   "cell_type": "markdown",
   "metadata": {
    "_uuid": "0615e2443bb340a0fff34c0f36fe93b606569606"
   },
   "source": [
    "## Null values ?"
   ]
  },
  {
   "cell_type": "code",
   "execution_count": 7,
   "metadata": {
    "_uuid": "e1fd5c3b3726fb21a52698d63ce40d7e103e45c9"
   },
   "outputs": [
    {
     "name": "stdout",
     "output_type": "stream",
     "text": [
      "0\n"
     ]
    }
   ],
   "source": [
    "missing_val_count_by_column = (data.isnull().sum())\n",
    "print(missing_val_count_by_column.sum())"
   ]
  },
  {
   "cell_type": "code",
   "execution_count": 8,
   "metadata": {
    "_uuid": "504b9ed30335e4cc5f82d5f57f040e6d4dcb3177"
   },
   "outputs": [
    {
     "data": {
      "text/html": [
       "<div>\n",
       "<style scoped>\n",
       "    .dataframe tbody tr th:only-of-type {\n",
       "        vertical-align: middle;\n",
       "    }\n",
       "\n",
       "    .dataframe tbody tr th {\n",
       "        vertical-align: top;\n",
       "    }\n",
       "\n",
       "    .dataframe thead th {\n",
       "        text-align: right;\n",
       "    }\n",
       "</style>\n",
       "<table border=\"1\" class=\"dataframe\">\n",
       "  <thead>\n",
       "    <tr style=\"text-align: right;\">\n",
       "      <th></th>\n",
       "      <th>id</th>\n",
       "      <th>feat_1</th>\n",
       "      <th>feat_2</th>\n",
       "      <th>feat_3</th>\n",
       "      <th>feat_4</th>\n",
       "      <th>feat_5</th>\n",
       "      <th>feat_6</th>\n",
       "      <th>feat_7</th>\n",
       "      <th>feat_8</th>\n",
       "      <th>feat_9</th>\n",
       "      <th>...</th>\n",
       "      <th>feat_84</th>\n",
       "      <th>feat_85</th>\n",
       "      <th>feat_86</th>\n",
       "      <th>feat_87</th>\n",
       "      <th>feat_88</th>\n",
       "      <th>feat_89</th>\n",
       "      <th>feat_90</th>\n",
       "      <th>feat_91</th>\n",
       "      <th>feat_92</th>\n",
       "      <th>feat_93</th>\n",
       "    </tr>\n",
       "  </thead>\n",
       "  <tbody>\n",
       "    <tr>\n",
       "      <th>count</th>\n",
       "      <td>61878.000000</td>\n",
       "      <td>61878.00000</td>\n",
       "      <td>61878.000000</td>\n",
       "      <td>61878.000000</td>\n",
       "      <td>61878.000000</td>\n",
       "      <td>61878.000000</td>\n",
       "      <td>61878.000000</td>\n",
       "      <td>61878.000000</td>\n",
       "      <td>61878.000000</td>\n",
       "      <td>61878.000000</td>\n",
       "      <td>...</td>\n",
       "      <td>61878.000000</td>\n",
       "      <td>61878.000000</td>\n",
       "      <td>61878.000000</td>\n",
       "      <td>61878.000000</td>\n",
       "      <td>61878.000000</td>\n",
       "      <td>61878.000000</td>\n",
       "      <td>61878.000000</td>\n",
       "      <td>61878.000000</td>\n",
       "      <td>61878.000000</td>\n",
       "      <td>61878.000000</td>\n",
       "    </tr>\n",
       "    <tr>\n",
       "      <th>mean</th>\n",
       "      <td>30939.500000</td>\n",
       "      <td>0.38668</td>\n",
       "      <td>0.263066</td>\n",
       "      <td>0.901467</td>\n",
       "      <td>0.779081</td>\n",
       "      <td>0.071043</td>\n",
       "      <td>0.025696</td>\n",
       "      <td>0.193704</td>\n",
       "      <td>0.662433</td>\n",
       "      <td>1.011296</td>\n",
       "      <td>...</td>\n",
       "      <td>0.070752</td>\n",
       "      <td>0.532306</td>\n",
       "      <td>1.128576</td>\n",
       "      <td>0.393549</td>\n",
       "      <td>0.874915</td>\n",
       "      <td>0.457772</td>\n",
       "      <td>0.812421</td>\n",
       "      <td>0.264941</td>\n",
       "      <td>0.380119</td>\n",
       "      <td>0.126135</td>\n",
       "    </tr>\n",
       "    <tr>\n",
       "      <th>std</th>\n",
       "      <td>17862.784315</td>\n",
       "      <td>1.52533</td>\n",
       "      <td>1.252073</td>\n",
       "      <td>2.934818</td>\n",
       "      <td>2.788005</td>\n",
       "      <td>0.438902</td>\n",
       "      <td>0.215333</td>\n",
       "      <td>1.030102</td>\n",
       "      <td>2.255770</td>\n",
       "      <td>3.474822</td>\n",
       "      <td>...</td>\n",
       "      <td>1.151460</td>\n",
       "      <td>1.900438</td>\n",
       "      <td>2.681554</td>\n",
       "      <td>1.575455</td>\n",
       "      <td>2.115466</td>\n",
       "      <td>1.527385</td>\n",
       "      <td>4.597804</td>\n",
       "      <td>2.045646</td>\n",
       "      <td>0.982385</td>\n",
       "      <td>1.201720</td>\n",
       "    </tr>\n",
       "    <tr>\n",
       "      <th>min</th>\n",
       "      <td>1.000000</td>\n",
       "      <td>0.00000</td>\n",
       "      <td>0.000000</td>\n",
       "      <td>0.000000</td>\n",
       "      <td>0.000000</td>\n",
       "      <td>0.000000</td>\n",
       "      <td>0.000000</td>\n",
       "      <td>0.000000</td>\n",
       "      <td>0.000000</td>\n",
       "      <td>0.000000</td>\n",
       "      <td>...</td>\n",
       "      <td>0.000000</td>\n",
       "      <td>0.000000</td>\n",
       "      <td>0.000000</td>\n",
       "      <td>0.000000</td>\n",
       "      <td>0.000000</td>\n",
       "      <td>0.000000</td>\n",
       "      <td>0.000000</td>\n",
       "      <td>0.000000</td>\n",
       "      <td>0.000000</td>\n",
       "      <td>0.000000</td>\n",
       "    </tr>\n",
       "    <tr>\n",
       "      <th>25%</th>\n",
       "      <td>15470.250000</td>\n",
       "      <td>0.00000</td>\n",
       "      <td>0.000000</td>\n",
       "      <td>0.000000</td>\n",
       "      <td>0.000000</td>\n",
       "      <td>0.000000</td>\n",
       "      <td>0.000000</td>\n",
       "      <td>0.000000</td>\n",
       "      <td>0.000000</td>\n",
       "      <td>0.000000</td>\n",
       "      <td>...</td>\n",
       "      <td>0.000000</td>\n",
       "      <td>0.000000</td>\n",
       "      <td>0.000000</td>\n",
       "      <td>0.000000</td>\n",
       "      <td>0.000000</td>\n",
       "      <td>0.000000</td>\n",
       "      <td>0.000000</td>\n",
       "      <td>0.000000</td>\n",
       "      <td>0.000000</td>\n",
       "      <td>0.000000</td>\n",
       "    </tr>\n",
       "    <tr>\n",
       "      <th>50%</th>\n",
       "      <td>30939.500000</td>\n",
       "      <td>0.00000</td>\n",
       "      <td>0.000000</td>\n",
       "      <td>0.000000</td>\n",
       "      <td>0.000000</td>\n",
       "      <td>0.000000</td>\n",
       "      <td>0.000000</td>\n",
       "      <td>0.000000</td>\n",
       "      <td>0.000000</td>\n",
       "      <td>0.000000</td>\n",
       "      <td>...</td>\n",
       "      <td>0.000000</td>\n",
       "      <td>0.000000</td>\n",
       "      <td>0.000000</td>\n",
       "      <td>0.000000</td>\n",
       "      <td>0.000000</td>\n",
       "      <td>0.000000</td>\n",
       "      <td>0.000000</td>\n",
       "      <td>0.000000</td>\n",
       "      <td>0.000000</td>\n",
       "      <td>0.000000</td>\n",
       "    </tr>\n",
       "    <tr>\n",
       "      <th>75%</th>\n",
       "      <td>46408.750000</td>\n",
       "      <td>0.00000</td>\n",
       "      <td>0.000000</td>\n",
       "      <td>0.000000</td>\n",
       "      <td>0.000000</td>\n",
       "      <td>0.000000</td>\n",
       "      <td>0.000000</td>\n",
       "      <td>0.000000</td>\n",
       "      <td>1.000000</td>\n",
       "      <td>0.000000</td>\n",
       "      <td>...</td>\n",
       "      <td>0.000000</td>\n",
       "      <td>0.000000</td>\n",
       "      <td>1.000000</td>\n",
       "      <td>0.000000</td>\n",
       "      <td>1.000000</td>\n",
       "      <td>0.000000</td>\n",
       "      <td>0.000000</td>\n",
       "      <td>0.000000</td>\n",
       "      <td>0.000000</td>\n",
       "      <td>0.000000</td>\n",
       "    </tr>\n",
       "    <tr>\n",
       "      <th>max</th>\n",
       "      <td>61878.000000</td>\n",
       "      <td>61.00000</td>\n",
       "      <td>51.000000</td>\n",
       "      <td>64.000000</td>\n",
       "      <td>70.000000</td>\n",
       "      <td>19.000000</td>\n",
       "      <td>10.000000</td>\n",
       "      <td>38.000000</td>\n",
       "      <td>76.000000</td>\n",
       "      <td>43.000000</td>\n",
       "      <td>...</td>\n",
       "      <td>76.000000</td>\n",
       "      <td>55.000000</td>\n",
       "      <td>65.000000</td>\n",
       "      <td>67.000000</td>\n",
       "      <td>30.000000</td>\n",
       "      <td>61.000000</td>\n",
       "      <td>130.000000</td>\n",
       "      <td>52.000000</td>\n",
       "      <td>19.000000</td>\n",
       "      <td>87.000000</td>\n",
       "    </tr>\n",
       "  </tbody>\n",
       "</table>\n",
       "<p>8 rows × 94 columns</p>\n",
       "</div>"
      ],
      "text/plain": [
       "                 id       feat_1        feat_2        feat_3        feat_4  \\\n",
       "count  61878.000000  61878.00000  61878.000000  61878.000000  61878.000000   \n",
       "mean   30939.500000      0.38668      0.263066      0.901467      0.779081   \n",
       "std    17862.784315      1.52533      1.252073      2.934818      2.788005   \n",
       "min        1.000000      0.00000      0.000000      0.000000      0.000000   \n",
       "25%    15470.250000      0.00000      0.000000      0.000000      0.000000   \n",
       "50%    30939.500000      0.00000      0.000000      0.000000      0.000000   \n",
       "75%    46408.750000      0.00000      0.000000      0.000000      0.000000   \n",
       "max    61878.000000     61.00000     51.000000     64.000000     70.000000   \n",
       "\n",
       "             feat_5        feat_6        feat_7        feat_8        feat_9  \\\n",
       "count  61878.000000  61878.000000  61878.000000  61878.000000  61878.000000   \n",
       "mean       0.071043      0.025696      0.193704      0.662433      1.011296   \n",
       "std        0.438902      0.215333      1.030102      2.255770      3.474822   \n",
       "min        0.000000      0.000000      0.000000      0.000000      0.000000   \n",
       "25%        0.000000      0.000000      0.000000      0.000000      0.000000   \n",
       "50%        0.000000      0.000000      0.000000      0.000000      0.000000   \n",
       "75%        0.000000      0.000000      0.000000      1.000000      0.000000   \n",
       "max       19.000000     10.000000     38.000000     76.000000     43.000000   \n",
       "\n",
       "       ...       feat_84       feat_85       feat_86       feat_87  \\\n",
       "count  ...  61878.000000  61878.000000  61878.000000  61878.000000   \n",
       "mean   ...      0.070752      0.532306      1.128576      0.393549   \n",
       "std    ...      1.151460      1.900438      2.681554      1.575455   \n",
       "min    ...      0.000000      0.000000      0.000000      0.000000   \n",
       "25%    ...      0.000000      0.000000      0.000000      0.000000   \n",
       "50%    ...      0.000000      0.000000      0.000000      0.000000   \n",
       "75%    ...      0.000000      0.000000      1.000000      0.000000   \n",
       "max    ...     76.000000     55.000000     65.000000     67.000000   \n",
       "\n",
       "            feat_88       feat_89       feat_90       feat_91       feat_92  \\\n",
       "count  61878.000000  61878.000000  61878.000000  61878.000000  61878.000000   \n",
       "mean       0.874915      0.457772      0.812421      0.264941      0.380119   \n",
       "std        2.115466      1.527385      4.597804      2.045646      0.982385   \n",
       "min        0.000000      0.000000      0.000000      0.000000      0.000000   \n",
       "25%        0.000000      0.000000      0.000000      0.000000      0.000000   \n",
       "50%        0.000000      0.000000      0.000000      0.000000      0.000000   \n",
       "75%        1.000000      0.000000      0.000000      0.000000      0.000000   \n",
       "max       30.000000     61.000000    130.000000     52.000000     19.000000   \n",
       "\n",
       "            feat_93  \n",
       "count  61878.000000  \n",
       "mean       0.126135  \n",
       "std        1.201720  \n",
       "min        0.000000  \n",
       "25%        0.000000  \n",
       "50%        0.000000  \n",
       "75%        0.000000  \n",
       "max       87.000000  \n",
       "\n",
       "[8 rows x 94 columns]"
      ]
     },
     "execution_count": 8,
     "metadata": {},
     "output_type": "execute_result"
    }
   ],
   "source": [
    "data.describe()"
   ]
  },
  {
   "cell_type": "markdown",
   "metadata": {
    "_uuid": "3493e4b05d3e146704479c53f8c449772de706ca"
   },
   "source": [
    "## Balance in the class ?"
   ]
  },
  {
   "cell_type": "code",
   "execution_count": null,
   "metadata": {
    "_uuid": "02cd6cb5e2f02bdc04a7035660cbce02676f7f69"
   },
   "outputs": [],
   "source": [
    "data[\"target\"].value_counts().plot.bar()"
   ]
  },
  {
   "cell_type": "code",
   "execution_count": null,
   "metadata": {
    "_uuid": "00c7c3a3057e1047b53cd80112093b03bc260278"
   },
   "outputs": [],
   "source": [
    "data[\"target\"].value_counts()"
   ]
  },
  {
   "cell_type": "code",
   "execution_count": null,
   "metadata": {
    "_uuid": "47b0d2dec4da9e6e5b14a334c4f1f412b5a52cc0"
   },
   "outputs": [],
   "source": [
    "ros = RandomOverSampler()\n",
    "X_ros, y_ros = ros.fit_sample(X_train, y_train)\n",
    "\n",
    "unique, counts = np.unique(y_ros, return_counts=True)\n",
    "\n",
    "print(np.asarray((unique, counts)).T)"
   ]
  },
  {
   "cell_type": "code",
   "execution_count": null,
   "metadata": {
    "_uuid": "d752064cf5d6413b866b5b2ecf418bc44198d397"
   },
   "outputs": [],
   "source": [
    "pd.Series(y_ros).value_counts().plot.bar()"
   ]
  },
  {
   "cell_type": "markdown",
   "metadata": {
    "_uuid": "b6a2db8a2079f24e2c1b035457a6aaee2257acb9"
   },
   "source": [
    "## Scaling"
   ]
  },
  {
   "cell_type": "code",
   "execution_count": null,
   "metadata": {
    "_uuid": "981dabd27067abb5939149af2daf115149a6d3e5"
   },
   "outputs": [],
   "source": [
    "scaler = StandardScaler()\n",
    "scaler.fit(X_train)\n",
    "X_train_scaled = scaler.transform(X_train)\n",
    "X_val_scaled = scaler.transform(X_val)"
   ]
  },
  {
   "cell_type": "code",
   "execution_count": null,
   "metadata": {
    "_uuid": "e2aedfe2c127eb8f290d42a4269eb90159f2ed45"
   },
   "outputs": [],
   "source": [
    "test_data = pd.read_csv('../input/test.csv')\n",
    "test_X = test_data.drop([\"id\"], axis=1)\n",
    "scaler_all = StandardScaler()\n",
    "train_X_scaled = scaler_all.fit_transform(train_X)\n",
    "test_X_scaled = scaler.transform(test_X)"
   ]
  },
  {
   "cell_type": "markdown",
   "metadata": {
    "_uuid": "5b94a5516a8d811a6faa16fe79895a93b2d78ca0"
   },
   "source": [
    "## PCA ?"
   ]
  },
  {
   "cell_type": "code",
   "execution_count": null,
   "metadata": {
    "_uuid": "9a0aeddf336d92da1b5472cb9d223b57a2eeb6f9"
   },
   "outputs": [],
   "source": [
    "pca = decomposition.PCA(n_components=20)\n",
    "pca.fit(X_train_scaled)\n",
    "\n",
    "X_train_pca = pca.transform(X_train_scaled)\n",
    "print(pca.explained_variance_ratio_)\n",
    "print(pca.explained_variance_)"
   ]
  },
  {
   "cell_type": "markdown",
   "metadata": {
    "_uuid": "e881d55f072c099df693f1548d00872ecccea704"
   },
   "source": [
    "## Determine number of components"
   ]
  },
  {
   "cell_type": "code",
   "execution_count": null,
   "metadata": {
    "_uuid": "553d74b42428e21b0c80e732b783fb8a565ccbba"
   },
   "outputs": [],
   "source": [
    "pca = decomposition.PCA()\n",
    "pca.fit(X_train_scaled)\n",
    "\n",
    "X_train_pca = pca.transform(X_train_scaled)\n",
    "#print(np.cumsum(pca.explained_variance_ratio_))\n",
    "plt.plot(np.cumsum(pca.explained_variance_ratio_))\n",
    "plt.xlabel('number of components')\n",
    "plt.ylabel('cumulative explained variance');"
   ]
  },
  {
   "cell_type": "markdown",
   "metadata": {
    "_uuid": "3c5d4696389f1a1ee3f0aa1c36844291c3b11d9b"
   },
   "source": [
    "At least 95% of the variance in the data can be explained by 77 components."
   ]
  },
  {
   "cell_type": "markdown",
   "metadata": {
    "_uuid": "aa48f7354ea0e9dc7bf0692d67a88cb60cd21e8c"
   },
   "source": [
    "# XGBOOST"
   ]
  },
  {
   "cell_type": "code",
   "execution_count": null,
   "metadata": {
    "_uuid": "2c511cd29cd60d84725b1a0009d5e8eab30437f2"
   },
   "outputs": [],
   "source": [
    "xgb = XGBClassifier()\n",
    "xgb.fit(X_train_scaled, y_train)\n",
    "preds = xgb.predict_proba(X_val_scaled)\n",
    "score = log_loss(y_val, preds)\n",
    "print(\"test data log loss eval : {}\".format(log_loss(y_val,preds)))"
   ]
  },
  {
   "cell_type": "code",
   "execution_count": null,
   "metadata": {
    "_uuid": "17a25bf7fb51d39e2ee0bf2e4069d7009f5fbf4c"
   },
   "outputs": [],
   "source": [
    "xgb.get_params"
   ]
  },
  {
   "cell_type": "markdown",
   "metadata": {
    "_uuid": "e13792b02e9ce180224117d04871234a1fb1ecbc"
   },
   "source": [
    "# Fitting and Tuning an Algorithm"
   ]
  },
  {
   "cell_type": "code",
   "execution_count": null,
   "metadata": {
    "_uuid": "3b1cff124643b697d0af73fc491c383cc11617c6"
   },
   "outputs": [],
   "source": [
    "from sklearn.model_selection import GridSearchCV\n",
    "\n",
    "\"\"\"\n",
    "param_test = {\n",
    "    'n_estimators': [300],\n",
    "    'n_jobs': [4], #Number of jobs to run in parallel. -1 means using all processors\n",
    "}\n",
    "gsearch = GridSearchCV(estimator = XGBClassifier(), param_grid = param_test, scoring='neg_log_loss', n_jobs=-1,iid=False, cv=3,verbose=1, return_train_score=True)\n",
    "gsearch.fit(X_train_scaled,y_train)\n",
    "pd.DataFrame(gsearch.cv_results_)\n",
    "\"\"\""
   ]
  },
  {
   "cell_type": "code",
   "execution_count": null,
   "metadata": {
    "_uuid": "62234056b9bda891e0a8004f44eb4a31eca56ed9",
    "scrolled": true
   },
   "outputs": [],
   "source": [
    "scores = []\n",
    "n_estimators = [100,200,400,450,500,525,550,600,700]\n",
    "\n",
    "for nes in n_estimators:\n",
    "    xgb = XGBClassifier(learning_rate =0.1, n_estimators=nes, max_depth=7, min_child_weight=3, subsample=0.8, \n",
    "                             colsample_bytree=0.8, nthread=4, seed=42, objective='multi:softprob')\n",
    "    xgb.fit(X_train_scaled, y_train)\n",
    "    preds = xgb.predict_proba(X_val_scaled)\n",
    "    score = log_loss(y_val, preds)\n",
    "    scores.append(score)\n",
    "    print(\"test data log loss eval : {}\".format(log_loss(y_val,preds)))"
   ]
  },
  {
   "cell_type": "code",
   "execution_count": null,
   "metadata": {
    "_uuid": "60f87bc3f6dedd810fa71a07b9085d9de02fcd1d"
   },
   "outputs": [],
   "source": [
    "plt.plot(n_estimators,scores,'o-')\n",
    "plt.ylabel(log_loss)\n",
    "plt.xlabel(\"n_estimator\")\n",
    "print(\"best n_estimator {}\".format(n_estimators[np.argmin(scores)]))"
   ]
  },
  {
   "cell_type": "code",
   "execution_count": null,
   "metadata": {
    "_uuid": "1926e3ea787ae8182e1347acba64442129cc4935"
   },
   "outputs": [],
   "source": [
    "scores_md = []\n",
    "max_depths = [1,3,5,6,7,8,10]\n",
    "\n",
    "for md in max_depths:\n",
    "    xgb = XGBClassifier(learning_rate =0.1, n_estimators=n_estimators[np.argmin(scores)], \n",
    "                        max_depth=md, min_child_weight=3, subsample=0.8, \n",
    "                        colsample_bytree=0.8, nthread=4, seed=42, objective='multi:softprob')\n",
    "    xgb.fit(X_train_scaled, y_train)\n",
    "    preds = xgb.predict_proba(X_val_scaled)\n",
    "    score = log_loss(y_val, preds)\n",
    "    scores_md.append(score)\n",
    "    print(\"test data log loss eval : {}\".format(log_loss(y_val,preds)))"
   ]
  },
  {
   "cell_type": "code",
   "execution_count": null,
   "metadata": {
    "_uuid": "99adafe37865a121f88facce9d3956196f5ea83e"
   },
   "outputs": [],
   "source": [
    "plt.plot(max_depths,scores_md,'o-')\n",
    "plt.ylabel(log_loss)\n",
    "plt.xlabel(\"max_depth\")\n",
    "print(\"best max_depth {}\".format(max_depths[np.argmin(scores_md)]))"
   ]
  },
  {
   "cell_type": "code",
   "execution_count": null,
   "metadata": {
    "_uuid": "277fe6eac575d100db410b35545c7e5bbf1de1ad"
   },
   "outputs": [],
   "source": [
    "scores_mcw = []\n",
    "min_child_weights = [1,2,3,4,5]\n",
    "\n",
    "for mcw in min_child_weights:\n",
    "    xgb = XGBClassifier(learning_rate =0.1, n_estimators=n_estimators[np.argmin(scores)],\n",
    "                        max_depth=max_depths[np.argmin(scores_md)], \n",
    "                        min_child_weight=mcw, subsample=0.8, \n",
    "                        colsample_bytree=0.8, nthread=4, seed=42, objective='multi:softprob')\n",
    "    xgb.fit(X_train_scaled, y_train)\n",
    "    preds = xgb.predict_proba(X_val_scaled)\n",
    "    score = log_loss(y_val, preds)\n",
    "    scores_mcw.append(score)\n",
    "    print(\"test data log loss eval : {}\".format(log_loss(y_val,preds)))"
   ]
  },
  {
   "cell_type": "code",
   "execution_count": null,
   "metadata": {
    "_uuid": "107bee0a04e85afc8451291374bc148aac61154a"
   },
   "outputs": [],
   "source": [
    "plt.plot(min_child_weights,scores_mcw,\"o-\")\n",
    "plt.ylabel(log_loss)\n",
    "plt.xlabel(\"min_child_weight\")\n",
    "print(\"best min_child_weight {}\".format(min_child_weights[np.argmin(scores_mcw)]))"
   ]
  },
  {
   "cell_type": "code",
   "execution_count": null,
   "metadata": {
    "_uuid": "320381481b464bd17705ed3ef51169220e2d33ba",
    "scrolled": true
   },
   "outputs": [],
   "source": [
    "scores_ss = []\n",
    "subsamples = [0.5,0.6,0.7,0.8,0.9,1]\n",
    "\n",
    "for ss in subsamples:\n",
    "    xgb = XGBClassifier(learning_rate =0.1, n_estimators=n_estimators[np.argmin(scores)], \n",
    "                        max_depth=max_depths[np.argmin(scores_md)],\n",
    "                        min_child_weight=min_child_weights[np.argmin(scores_mcw)], subsample=ss, \n",
    "                        colsample_bytree=0.8, nthread=4, seed=42, objective='multi:softprob')\n",
    "    xgb.fit(X_train_scaled, y_train)\n",
    "    preds = xgb.predict_proba(X_val_scaled)\n",
    "    score = log_loss(y_val, preds)\n",
    "    scores_ss.append(score)\n",
    "    print(\"test data log loss eval : {}\".format(log_loss(y_val,preds)))"
   ]
  },
  {
   "cell_type": "code",
   "execution_count": null,
   "metadata": {
    "_uuid": "c0a97046b737688b8d81db17273361514c70b817"
   },
   "outputs": [],
   "source": [
    "plt.plot(subsamples,scores_ss,\"o-\")\n",
    "plt.ylabel(log_loss)\n",
    "plt.xlabel(\"subsample\")\n",
    "print(\"best subsample {}\".format(subsamples[np.argmin(scores_ss)]))"
   ]
  },
  {
   "cell_type": "code",
   "execution_count": null,
   "metadata": {
    "_uuid": "7f42c62071238a6219fe5f0dccea53e757949403"
   },
   "outputs": [],
   "source": [
    "scores_cb = []\n",
    "colsample_bytrees = [0.5,0.6,0.7,0.8,0.9,1]\n",
    "\n",
    "for cb in colsample_bytrees:\n",
    "    xgb = XGBClassifier(learning_rate =0.1, n_estimators=n_estimators[np.argmin(scores)], \n",
    "                        max_depth=max_depths[np.argmin(scores_md)], \n",
    "                        min_child_weight=min_child_weights[np.argmin(scores_mcw)], \n",
    "                        subsample=subsamples[np.argmin(scores_ss)], \n",
    "                        colsample_bytree=cb, nthread=4, seed=42, objective='multi:softprob')\n",
    "    xgb.fit(X_train_scaled, y_train)\n",
    "    preds = xgb.predict_proba(X_val_scaled)\n",
    "    score = log_loss(y_val, preds)\n",
    "    scores_cb.append(score)\n",
    "    print(\"test data log loss eval : {}\".format(log_loss(y_val,preds)))"
   ]
  },
  {
   "cell_type": "code",
   "execution_count": null,
   "metadata": {
    "_uuid": "92c53c65525cc88825bf3f2b4ab46f5a5cdb69f3"
   },
   "outputs": [],
   "source": [
    "plt.plot(colsample_bytrees,scores_cb,\"o-\")\n",
    "plt.ylabel(log_loss)\n",
    "plt.xlabel(\"colsample_bytree\")\n",
    "print(\"best colsample_bytree {}\".format(colsample_bytrees[np.argmin(scores_cb)]))"
   ]
  },
  {
   "cell_type": "code",
   "execution_count": null,
   "metadata": {
    "_uuid": "895918488103964311de1676e9b071de6562c9f6"
   },
   "outputs": [],
   "source": [
    "scores_eta = []\n",
    "etas = [0.001,0.01,0.1,0.2,0.3,0.5,1]\n",
    "\n",
    "for eta in etas:\n",
    "    xgb = XGBClassifier(learning_rate =eta, n_estimators=n_estimators[np.argmin(scores)], \n",
    "                        max_depth=max_depths[np.argmin(scores_md)], \n",
    "                        min_child_weight=min_child_weights[np.argmin(scores_mcw)], \n",
    "                        subsample=subsamples[np.argmin(scores_ss)], \n",
    "                        colsample_bytree=colsample_bytrees[np.argmin(scores_cb)], \n",
    "                        nthread=4, seed=42, objective='multi:softprob')\n",
    "    xgb.fit(X_train_scaled, y_train)\n",
    "    preds = xgb.predict_proba(X_val_scaled)\n",
    "    score = log_loss(y_val, preds)\n",
    "    scores_eta.append(score)\n",
    "    print(\"test data log loss eval : {}\".format(log_loss(y_val,preds)))"
   ]
  },
  {
   "cell_type": "code",
   "execution_count": null,
   "metadata": {
    "_uuid": "23e5ad5a6171a03435967f40ae00034da6d68d7f"
   },
   "outputs": [],
   "source": [
    "plt.plot(etas,scores_eta,\"o-\")\n",
    "plt.ylabel(log_loss)\n",
    "plt.xlabel(\"eta\")\n",
    "print(\"best eta {}\".format(etas[np.argmin(scores_eta)]))"
   ]
  },
  {
   "cell_type": "code",
   "execution_count": null,
   "metadata": {
    "_uuid": "7c8b6120e720173a6501080bcb18e5a90cfb8c01"
   },
   "outputs": [],
   "source": [
    "xgb = XGBClassifier(learning_rate =eta, n_estimators=n_estimators[np.argmin(scores)], \n",
    "                        max_depth=max_depths[np.argmin(scores_md)], \n",
    "                        min_child_weight=min_child_weights[np.argmin(scores_mcw)], \n",
    "                        subsample=subsamples[np.argmin(scores_ss)], \n",
    "                        colsample_bytree=colsample_bytrees[np.argmin(scores_cb)], \n",
    "                        nthread=4, seed=42, objective='multi:softprob')\n",
    "calibrated_xgb = CalibratedClassifierCV(xgb, cv=5, method='isotonic')\n",
    "calibrated_xgb.fit(X_train_scaled, y_train)\n",
    "preds = calibrated_xgb.predict_proba(X_val_scaled)\n",
    "score = log_loss(y_val, preds)\n",
    "scores_eta.append(score)\n",
    "print(\"test data log loss eval : {}\".format(log_loss(y_val,preds)))"
   ]
  },
  {
   "cell_type": "markdown",
   "metadata": {
    "_uuid": "d85b69b305035cbec333471bd8294af291603410"
   },
   "source": [
    "# submission"
   ]
  },
  {
   "cell_type": "code",
   "execution_count": null,
   "metadata": {
    "_kg_hide-output": false,
    "_uuid": "9590bb67f1a7bb7444776bd8632404a7652d4802"
   },
   "outputs": [],
   "source": [
    "xgb = XGBClassifier(learning_rate =0.1, n_estimators=525, max_depth=8, min_child_weight=3, subsample=0.7, \n",
    "                       colsample_bytree=0.7, nthread=4, seed=42, objective='multi:softprob')\n",
    "my_model = CalibratedClassifierCV(xgb, cv=5, method='isotonic')\n",
    "my_model.fit(train_X_scaled,train_y)\n",
    "test_preds = my_model.predict_proba(test_X_scaled)\n",
    "output = pd.DataFrame(test_preds,columns=[\"Class_\"+str(i) for i in range(1,10)])\n",
    "output.insert(loc=0, column='id', value=test_data.id)\n",
    "output.to_csv('submission.csv', index=False)"
   ]
  },
  {
   "cell_type": "code",
   "execution_count": null,
   "metadata": {
    "_uuid": "303b8a1222e0f761f79477f2a5852f06f8e6a023"
   },
   "outputs": [],
   "source": [
    "test_data.head()"
   ]
  },
  {
   "cell_type": "code",
   "execution_count": null,
   "metadata": {
    "_uuid": "3937c82909223a79a5b2499720fa1be99515616c"
   },
   "outputs": [],
   "source": [
    "output.head()"
   ]
  }
 ],
 "metadata": {
  "kernelspec": {
   "display_name": "Python 3",
   "language": "python",
   "name": "python3"
  },
  "language_info": {
   "codemirror_mode": {
    "name": "ipython",
    "version": 3
   },
   "file_extension": ".py",
   "mimetype": "text/x-python",
   "name": "python",
   "nbconvert_exporter": "python",
   "pygments_lexer": "ipython3",
   "version": "3.7.6"
  },
  "widgets": {
   "state": {},
   "version": "1.1.2"
  }
 },
 "nbformat": 4,
 "nbformat_minor": 1
}
