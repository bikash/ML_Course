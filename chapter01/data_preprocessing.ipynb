{
 "cells": [
  {
   "cell_type": "markdown",
   "metadata": {},
   "source": [
    "This notebook is forked from **Astandri K**'s original notebook (100% credit to him):\n",
    "https://www.kaggle.com/astandrik/journey-from-statistics-eda-to-prediction\n",
    "\n",
    "I added a few points below to enhance my personal understanding so this notebook is meant as a supplement to **Astandri K**'s work above:\n",
    "* **D.1 Filling Missing Values in Age**: added box plots for median, and emphasized the use of median as a more appropriate measure of central tendency, given the age distribution skew\n",
    "* **G.3 Model Performance**: added Confusion Matrix, Accuracy, Recall and Precision scores for greater clarity on measuring model performance, which are applicable for a binary classification problem such as this\n",
    "\n",
    "The training set should be used to build your machine learning models. For the training set, we provide the outcome (also known as the “ground truth”) for each passenger. Your model will be based on “features” like passengers’ gender and class. You can also use feature engineering to create new features.\n",
    "\n",
    "The test set should be used to see how well your model performs on unseen data. For the test set, we do not provide the ground truth for each passenger. It is your job to predict these outcomes. For each passenger in the test set, use the model you trained to predict whether or not they survived the sinking of the Titanic.\n",
    "\n",
    "We also include gender_submission.csv, a set of predictions that assume all and only female passengers survive, as an example of what a submission file should look like.\n",
    "\n",
    "Data Dictionary\n",
    "Variable\tDefinition\tKey\n",
    "survival\tSurvival\t0 = No, 1 = Yes\n",
    "pclass\tTicket class\t1 = 1st, 2 = 2nd, 3 = 3rd\n",
    "sex\tSex\t\n",
    "Age\tAge in years\t\n",
    "sibsp\t# of siblings / spouses aboard the Titanic\t\n",
    "parch\t# of parents / children aboard the Titanic\t\n",
    "ticket\tTicket number\t\n",
    "fare\tPassenger fare\t\n",
    "cabin\tCabin number\t\n",
    "embarked\tPort of Embarkation\tC = Cherbourg, Q = Queenstown, S = Southampton\n",
    "Variable Notes\n",
    "pclass: A proxy for socio-economic status (SES)\n",
    "1st = Upper\n",
    "2nd = Middle\n",
    "3rd = Lower\n",
    "\n",
    "age: Age is fractional if less than 1. If the age is estimated, is it in the form of xx.5\n",
    "\n",
    "sibsp: The dataset defines family relations in this way...\n",
    "Sibling = brother, sister, stepbrother, stepsister\n",
    "Spouse = husband, wife (mistresses and fiancés were ignored)\n",
    "\n",
    "parch: The dataset defines family relations in this way...\n",
    "Parent = mother, father\n",
    "Child = daughter, son, stepdaughter, stepson\n",
    "Some children travelled only with a nanny, therefore parch=0 for them."
   ]
  },
  {
   "cell_type": "code",
   "execution_count": 1,
   "metadata": {
    "_cell_guid": "b05bdfc6-cfc4-434f-b29c-514ad776057b",
    "_uuid": "f7dc90a3a57d9c4ad19b9b4a513da18043b3f5ad"
   },
   "outputs": [
    {
     "ename": "ModuleNotFoundError",
     "evalue": "No module named 'numpy'",
     "output_type": "error",
     "traceback": [
      "\u001B[0;31m---------------------------------------------------------------------------\u001B[0m",
      "\u001B[0;31mModuleNotFoundError\u001B[0m                       Traceback (most recent call last)",
      "\u001B[0;32m<ipython-input-1-dbbc7f856e95>\u001B[0m in \u001B[0;36m<module>\u001B[0;34m\u001B[0m\n\u001B[1;32m      1\u001B[0m \u001B[0;31m# Initialize Notebook\u001B[0m\u001B[0;34m\u001B[0m\u001B[0;34m\u001B[0m\u001B[0;34m\u001B[0m\u001B[0m\n\u001B[1;32m      2\u001B[0m \u001B[0;34m\u001B[0m\u001B[0m\n\u001B[0;32m----> 3\u001B[0;31m \u001B[0;32mimport\u001B[0m \u001B[0mnumpy\u001B[0m \u001B[0;32mas\u001B[0m \u001B[0mnp\u001B[0m\u001B[0;34m\u001B[0m\u001B[0;34m\u001B[0m\u001B[0m\n\u001B[0m\u001B[1;32m      4\u001B[0m \u001B[0;32mimport\u001B[0m \u001B[0mpandas\u001B[0m \u001B[0;32mas\u001B[0m \u001B[0mpd\u001B[0m\u001B[0;34m\u001B[0m\u001B[0;34m\u001B[0m\u001B[0m\n\u001B[1;32m      5\u001B[0m \u001B[0;32mimport\u001B[0m \u001B[0mmatplotlib\u001B[0m\u001B[0;34m.\u001B[0m\u001B[0mpyplot\u001B[0m \u001B[0;32mas\u001B[0m \u001B[0mplt\u001B[0m\u001B[0;34m\u001B[0m\u001B[0;34m\u001B[0m\u001B[0m\n",
      "\u001B[0;31mModuleNotFoundError\u001B[0m: No module named 'numpy'"
     ]
    }
   ],
   "source": [
    "# Initialize Notebook\n",
    "\n",
    "import numpy as np\n",
    "import pandas as pd\n",
    "import matplotlib.pyplot as plt\n",
    "import seaborn as sns\n",
    "import statistics as stat\n",
    "%matplotlib inline\n",
    "sns.set_style('whitegrid')\n",
    "\n",
    "import warnings\n",
    "warnings.filterwarnings('ignore')\n",
    "\n"
   ]
  },
  {
   "cell_type": "markdown",
   "metadata": {
    "_cell_guid": "1efdbc77-644a-43f8-8051-3b054266c07c",
    "_uuid": "729bf7007221eebaeec60f04dc2de35a0d064779"
   },
   "source": [
    "**IMPORT DATASET**\n",
    "\n",
    "1st of all, let's import the dataset:"
   ]
  },
  {
   "cell_type": "code",
   "execution_count": null,
   "metadata": {
    "_cell_guid": "8e51f607-7579-4643-beb1-7896189e2927",
    "_uuid": "eb121c14db2eea91aa363bf2f108aa984f3a00a5"
   },
   "outputs": [],
   "source": [
    "train = pd.read_csv('data/train.csv')\n",
    "test = pd.read_csv('data/test.csv')"
   ]
  },
  {
   "cell_type": "code",
   "execution_count": null,
   "metadata": {},
   "outputs": [],
   "source": [
    "train.head()"
   ]
  },
  {
   "cell_type": "code",
   "execution_count": null,
   "metadata": {},
   "outputs": [],
   "source": [
    "test.head()"
   ]
  },
  {
   "cell_type": "code",
   "execution_count": null,
   "metadata": {
    "_cell_guid": "53d8f301-3a44-469b-9786-72fd57d24541",
    "_uuid": "51a6548331759416201a571cc561d4e05f1205e6"
   },
   "outputs": [],
   "source": [
    "train.shape, test.shape"
   ]
  },
  {
   "cell_type": "markdown",
   "metadata": {},
   "source": [
    "# **NOTEBOOK OUTLINE** <br>\n",
    "\n",
    "# A. Descriptive Statistics <br>\n",
    "# B. Exploratory Data Analysis (EDA) <br>\n",
    "# C. Summary and Feature Selection <br>\n",
    "# D. Dealing with Missing Values <br>\n",
    "# E. Feature Engineering <br>\n",
    "# F. Final Data Preparation <br>\n",
    "# G. Prediction (Modelling) <br>"
   ]
  },
  {
   "cell_type": "markdown",
   "metadata": {
    "_cell_guid": "4910039b-7e65-4ceb-88e9-199babcbd816",
    "_uuid": "0e82c35d79983fe4b6c90e45bb0cfe0b78ebdf53"
   },
   "source": [
    "**A. DESCRIPTIVE STATISTICS**\n",
    "\n",
    "All right, using a few lines of code, let's try to describe the data using descriptive statistics:"
   ]
  },
  {
   "cell_type": "code",
   "execution_count": null,
   "metadata": {
    "_cell_guid": "4fdea9d1-eb71-444e-a179-130fad187887",
    "_uuid": "a3362f9ea0a8a3024aef97a09ead90a92d9896a8"
   },
   "outputs": [],
   "source": [
    "train.describe()"
   ]
  },
  {
   "cell_type": "code",
   "execution_count": null,
   "metadata": {
    "_cell_guid": "045642b8-fcbb-4fc9-a951-4168f678e3a5",
    "_uuid": "a57bcc6ed284dd80ec3116117b0397c8457bf0a1"
   },
   "outputs": [],
   "source": [
    "test.describe()"
   ]
  },
  {
   "cell_type": "markdown",
   "metadata": {
    "_cell_guid": "081f79dc-8d8f-4661-8aff-aaeef2b589df",
    "_uuid": "b8434571ac1f2f4fda74f4641c26ee7e10dd1fa7"
   },
   "source": [
    "**A.1 Numerical Attributes**\n",
    "\n",
    "From the codes above, we obtain the descriptive statistics for numerical attributes: **What do we see here?**\n",
    "1. **Survived**: The sample mean of this training data is 0,38, which could means *only about that percentage of passengers survived from titanic accident*\n",
    "\n",
    "2. **Pclass** (Passenger Class:Tthere are 3 class of passenger. At Q2(50%) and Q3(75%) we could see the value is 3, which could means *there are minimum 50% (or more) passengers which is 3rd class passengers*. It seems logical since lower class usually have cheaper ticket prize, and more quota for that class\n",
    "\n",
    "3. **Age**: From train and test data, the count values seems different from the others. yes, **Age attribute contains missing values**. Another useful information, the mean/average age on training data is 29 years old, which is 1 years older than the median value of the mean (30 mean and 27 median on test dataset), so what does it mean?\n",
    "    \n",
    "    It means the distributions of age values have **right skew**, which we expect some outliers in the *higher age value* (on the right size ofthe axis. As we can see, on the training and test dataset max value is 80 and 76 respectively.\n",
    "    \n",
    "4. **SibSp and Parch**: These attributes indicate number of SIblings or spouses, and Parent or Children number aboard. From the mean value, seems *majority of the passengers is alone (neither have SibSp or Parch)*. It is interesting that we see the maximum value have 8 SibSp and 9 ParCh, *maybe the oldest person brought his/her entire family on the ship*\n",
    "\n",
    "5. **Fare**: There are huge difference between mean and median value of this attributes, which is logical. *Many passengers from 3rd class which always have lower Fare*, on the other hand, we have so high value on max of Fare here, which seems an outlier that affect the average of this attributes (**again, right skew**). **Fare attribute contain 1 missing value on test dataset**"
   ]
  },
  {
   "cell_type": "code",
   "execution_count": null,
   "metadata": {
    "_cell_guid": "19e360b1-d740-46b9-b9f5-5b565fe08e55",
    "_uuid": "b306355d32d449699dbe241c6834378ebdbb6aa3"
   },
   "outputs": [],
   "source": [
    "train.describe(include=['O'])"
   ]
  },
  {
   "cell_type": "code",
   "execution_count": null,
   "metadata": {
    "_cell_guid": "a7f51a24-16ca-4217-b7d9-1b2b0156bee3",
    "_uuid": "b43edb773c70c501d860f9d8cd675f19e5aa3df9"
   },
   "outputs": [],
   "source": [
    "test.describe(include=['O'])"
   ]
  },
  {
   "cell_type": "markdown",
   "metadata": {
    "_cell_guid": "f6e3b090-122f-4d1a-bf12-6f53b57a19dd",
    "_uuid": "9e1fcb0b0a1f76277d8e9f4bc45106fd9282c450"
   },
   "source": [
    "**A.2 Categorical Attributes** <br>\n",
    "Now, we're dealing with categorical attributes. From the describe method above, we get additional information:\n",
    "1. **Name**: All names are unique (nothing special), *but they contains title*. maybe we can do some feature engineering later to get new attributes which could improve our prediction later.\n",
    "\n",
    "2.  **Sex**: Or *gender*. Consists of 2 categories - male and female. In both training and test datasets, male have higher frequency (approximately 60:40.)\n",
    "\n",
    "3.  **Ticket**: There are many unique values for this attributes - maybe we'll just drop this attribute for now and include it for future research\n",
    "\n",
    "4. **Cabin**: Many **missing values** here (*204 filled from 891 possible* on training dataset and *91 filled from 418 possible* on test dataset). *Maybe some passengers*, which we already know, 3rd Class or low-Fare passengers **don't have Cabin**.\n",
    "\n",
    "5. **Embarked**: There are **2 missing values** on training dataset. From the train and test datasets, we know that most passengers embarked from S (*what's \"S\" anyway?*)"
   ]
  },
  {
   "cell_type": "markdown",
   "metadata": {
    "_cell_guid": "c7bc68fd-c490-415d-9365-d2a1bcc63a91",
    "_uuid": "42449930c0ddc0904fd1b8f1b3944283cecb39ec"
   },
   "source": [
    "**B. EXPLORATORY DATA ANALYSIS (EDA)**"
   ]
  },
  {
   "cell_type": "code",
   "execution_count": null,
   "metadata": {
    "_cell_guid": "0d2d163f-6a28-4d01-9c45-b3a5b5ce41b3",
    "_uuid": "b9a99918a77b0c9df33f295d94809834847f4744"
   },
   "outputs": [],
   "source": [
    "train.head()"
   ]
  },
  {
   "cell_type": "code",
   "execution_count": null,
   "metadata": {},
   "outputs": [],
   "source": [
    "train.dropna()\n",
    "train.shape"
   ]
  },
  {
   "cell_type": "markdown",
   "metadata": {},
   "source": [
    "**Plot Charts**"
   ]
  },
  {
   "cell_type": "code",
   "execution_count": null,
   "metadata": {
    "_cell_guid": "10ca4606-3edd-42fd-83e9-2ac6989575e6",
    "_uuid": "66a4514515adb6de19c6c1fe72d809649fa0401f"
   },
   "outputs": [],
   "source": [
    "f,ax = plt.subplots(3,4,figsize=(20,16))\n",
    "sns.countplot('Pclass',data=train,ax=ax[0,0])\n",
    "sns.countplot('Sex',data=train,ax=ax[0,1])\n",
    "sns.boxplot(x='Pclass',y='Age',data=train,ax=ax[0,2])\n",
    "sns.countplot('SibSp',hue='Survived',data=train,ax=ax[0,3],palette='husl')\n",
    "sns.distplot(train['Fare'].dropna(),ax=ax[2,0],kde=False,color='b')\n",
    "sns.countplot('Embarked',data=train,ax=ax[2,2])\n",
    "\n",
    "sns.countplot('Pclass',hue='Survived',data=train,ax=ax[1,0],palette='husl')\n",
    "sns.countplot('Sex',hue='Survived',data=train,ax=ax[1,1],palette='husl')\n",
    "sns.distplot(train[train['Survived']==0]['Age'].dropna(),ax=ax[1,2],kde=False,color='r',bins=5)\n",
    "sns.distplot(train[train['Survived']==1]['Age'].dropna(),ax=ax[1,2],kde=False,color='g',bins=5)\n",
    "sns.countplot('Parch',hue='Survived',data=train,ax=ax[1,3],palette='husl')\n",
    "sns.swarmplot(x='Pclass',y='Fare',hue='Survived',data=train,palette='husl',ax=ax[2,1])\n",
    "sns.countplot('Embarked',hue='Survived',data=train,ax=ax[2,3],palette='husl')\n",
    "\n",
    "ax[0,0].set_title('Total Passengers by Class')\n",
    "ax[0,1].set_title('Total Passengers by Gender')\n",
    "ax[0,2].set_title('Age Box Plot By Class')\n",
    "ax[0,3].set_title('Survival Rate by SibSp')\n",
    "ax[1,0].set_title('Survival Rate by Class')\n",
    "ax[1,1].set_title('Survival Rate by Gender')\n",
    "ax[1,2].set_title('Survival Rate by Age')\n",
    "ax[1,3].set_title('Survival Rate by Parch')\n",
    "ax[2,0].set_title('Fare Distribution')\n",
    "ax[2,1].set_title('Survival Rate by Fare and Pclass')\n",
    "ax[2,2].set_title('Total Passengers by Embarked')\n",
    "ax[2,3].set_title('Survival Rate by Embarked')"
   ]
  },
  {
   "cell_type": "markdown",
   "metadata": {
    "_cell_guid": "c147ba3b-4a86-4b5a-b047-04946cf5b3ee",
    "_uuid": "f3add6ed695976ad0e0aa279c4360db8d5540056"
   },
   "source": [
    "> Some useful information:\n",
    "* Clearly, we can see most passengers are in class 3, which have least survival probability here\n",
    "* From Sex attribute, we can see total male Passengers is almost 2 times of female passengers, but lower survival probability *maybe male passengers tend to save their lady first?*\n",
    "* From the figure above, we can try to input missing ages by class:\n",
    "    * Pclass 1, median Age is approximately = 37\n",
    "    * Pclass 2, median Age is approximately = 29\n",
    "    * Pclass 3, median Age is approximately = 24\n",
    "* Ages have right-skewed distributions so median is a better measure of central tendency than mean\n",
    "* It seems that passengers with Sibling/Spouse or have Parent/Children aboard, have higher survival rates than passengers who are alone!"
   ]
  },
  {
   "cell_type": "code",
   "execution_count": null,
   "metadata": {
    "_cell_guid": "51275aee-f06a-4c43-b2c7-ed9fa1bc1f94",
    "_uuid": "7a10c705bdba00b50c45661c3458ac5bd33e9bd9"
   },
   "outputs": [],
   "source": [
    "train['Cabin'].value_counts().head()"
   ]
  },
  {
   "cell_type": "markdown",
   "metadata": {
    "_cell_guid": "ad1db084-1e8c-4b3a-9b0e-9000e3bc5f9a",
    "_uuid": "66ecd5058b508b08508c90b407cb501a0bb3d318"
   },
   "source": [
    "Now we have new information - some passengers have multiple cabin listed.\n",
    "For each passenger, I'll just try to create a new feature called **'Deck'** with the first letter from the Cabin as its value.\n",
    "If a passenger have multiple deck listed, I'll just use the higher class deck (ex: A and D, I'll just use A as the value.)\n",
    "\n",
    "Thanks to this discussion: https://www.kaggle.com/c/titanic/discussion/4693\n",
    "\n",
    "\"First class had the top decks (A-E), second class (D-F), and third class (E-G). It also makes sense that the people towards the top (higher decks, higher pclass) more likely survived, because they were closer to the lifeboats.\""
   ]
  },
  {
   "cell_type": "code",
   "execution_count": null,
   "metadata": {
    "_cell_guid": "95f2ae97-db82-4642-8fb7-560b82d9b911",
    "_uuid": "b62a4dc156ae5ee2da2250cee8a743083fc2e89e"
   },
   "outputs": [],
   "source": [
    "g = sns.FacetGrid(col='Embarked',data=train)\n",
    "g.map(sns.pointplot,'Pclass','Survived','Sex',palette='viridis',hue_order=['male','female'])\n",
    "g.add_legend()"
   ]
  },
  {
   "cell_type": "markdown",
   "metadata": {
    "_cell_guid": "5491d646-5f2a-42d0-8e74-a963c6d675a9",
    "_uuid": "07ef5206bf3e45c034e8f9daad95ab106eb3d42d"
   },
   "source": [
    "Information from visualizations above:\n",
    "* Female passengers who embarked from C and Q have high survival rate\n",
    "* Female passengers who embarked from Queenstown in Class 1 and 2 all survived!\n",
    "* Male passengers who embarked from Queenstown in Class 1 and 2 have the lowest survival rate!"
   ]
  },
  {
   "cell_type": "markdown",
   "metadata": {
    "_cell_guid": "4f1cfe40-7bf0-4bbd-9207-e7ece4652183",
    "_uuid": "869f35e6b1cc8fc65642588a3ed680e93f4f9262"
   },
   "source": [
    "**C. SUMMARY**\n",
    "\n",
    "This is a summary of our dataset and plan:\n",
    "* **Survived:**\n",
    "    * The value we should predict using test dataset. It is numerical with binary value 0 (Dead) and 1 (Survived)\n",
    "    \n",
    "* **Pclass:**\n",
    "    * The data type is categorical, level of measurement is qualitative->ordinal, since the level seems like 1>2>3.\n",
    "    * Since this is an ordinal, maybe we should **scale its value from 0 to 1** so we can keep the level information from this variable.\n",
    "    \n",
    "* **Name:**\n",
    "    * The data type is categorical, level of measurement is qualitative->nominal.\n",
    "    * We should include this variable in **Feature Engineering** process to extract the title value which maybe could improve our prediction result.\n",
    "    \n",
    "* **Sex:**\n",
    "    * The data type is categorical, level of measurement is qualitative->nominal.\n",
    "    * Since this is a categorical, maybe we should change the value to binary value 0 for male and 1 for female. We'll do this on **Data Preparation** process.\n",
    "    \n",
    "* **Age:**\n",
    "    * The data type is numerical->continuous with level of measurement quantitative->ratio.\n",
    "    * We should fill the **missing values**\n",
    "    * For a more meaningful analysis on age, it's better to change the level of measurement to quantitative->interval, by grouping the ages (maybe 1. Children/ Teenagers, 2. Young adults, 3. Adults, 4. Middle-aged and 5. Seniors) in the **Feature Engineering** process.\n",
    "    * Ages have right-skewed distributions so median is a better measure of central tendency than mean\n",
    "    \n",
    "* **SibSp & Parch:**\n",
    "    * The data type is numerical, level of measurement is quantitative->ratio.\n",
    "    * Passenger with Sibling/Spouse, or have parent/children aboard, have higher survival rate than passenger which is alone!\n",
    "    * So I'll create a new feature based on this attribute called 'is_alone', I'll do this on **Feature engineering** process.\n",
    "    \n",
    "* **Ticket:**\n",
    "    * *Let's drop this for now.*\n",
    "    \n",
    "* **Fare:**\n",
    "    * The data type is numerical->continuous with level of measurement is quantitative->ratio.\n",
    "    * There is 1 missing value in test dataset\n",
    "    * Since it seems there is an increasing level of passenger based on the Fare, I'll just scale the value of this variable from 0 to 1 in **Feature Engineering** process.\n",
    "    \n",
    "* **Cabin:**\n",
    "    * The data type is categorical, level of measurement is qualitative->ordinal, since the level seems like A>B>C>D..\n",
    "    * Some passenger have multiple cabin listed.\n",
    "    * There are many **missing values** on this attributes, I'll fill it with 'No Cabin' string.\n",
    "    * For each passenger, I'll just try to create a new feature called **'Deck'** with first letter from the Cabin as its value on **Feature Engineering** process.\n",
    "    * If passenger have multiple deck listed, I'll just use the higher class deck (ex: A and D, I'll just use A as the value)\n",
    "    * Because this variable is ordinal, I'll further change the letter value to be scaled from 0 to 1 in **Feature Engineering** process\n",
    "    \n",
    "* **Embarked:**\n",
    "    * The data type is categorical, level of measurement is qualitative->nominal.\n",
    "    * Since this is a categorical, maybe we should **get dummies** of this variable.\n",
    "    * There are 2 missing values in training dataset"
   ]
  },
  {
   "cell_type": "markdown",
   "metadata": {
    "_cell_guid": "1a33d738-d5cd-4206-8545-efd5796c68c6",
    "_uuid": "615f7d56b1d51a4d08da681d43d915901604c856"
   },
   "source": [
    "**D. DEALING WITH MISSING VALUES**\n",
    "\n",
    "From the summary above, we should fill missing values in **Age**, 1 value for **Fare** in test, and 2 values for **Embarked** in training. So, let's do this.\n",
    "\n",
    "Hang on, let's check the missing values using heatmap:"
   ]
  },
  {
   "cell_type": "code",
   "execution_count": null,
   "metadata": {
    "_cell_guid": "c0da17da-5466-46bc-acfe-5aa480943814",
    "_uuid": "0075f89b898685b798fc9cb2b9d26df4630fff8b"
   },
   "outputs": [],
   "source": [
    "f,ax = plt.subplots(1,2,figsize=(15,3))\n",
    "sns.heatmap(train.isnull(),yticklabels=False,cbar=False,cmap='viridis',ax=ax[0])\n",
    "sns.heatmap(test.isnull(),yticklabels=False,cbar=False,cmap='viridis',ax=ax[1])"
   ]
  },
  {
   "cell_type": "markdown",
   "metadata": {
    "_cell_guid": "b7db013e-2d23-4889-aff3-15c400b26ad5",
    "_uuid": "a8702901640b9211342e65b19817764f59a8e26b"
   },
   "source": [
    "**D.1 Filling missing values in Age**\n",
    "\n",
    "Let's look at the box plots 1st:"
   ]
  },
  {
   "cell_type": "code",
   "execution_count": null,
   "metadata": {},
   "outputs": [],
   "source": [
    "# Set Figure Size\n",
    "fig = plt.figure(figsize=(15,5))\n",
    "\n",
    "# 1st Subplot\n",
    "ax = fig.add_subplot(1, 2, 1)\n",
    "\n",
    "# Box Plot for Age by Pclass for Train Data\n",
    "ax.set_title('Train Dataset')\n",
    "\n",
    "# Settings to display median values\n",
    "box_plot_train = sns.boxplot(x='Pclass',y='Age',data=train)\n",
    "ax_train = box_plot_train.axes\n",
    "lines_train = ax_train.get_lines()\n",
    "categories_train = ax_train.get_xticks()\n",
    "\n",
    "for cat in categories_train:\n",
    "    # Median line is the 4th line in a range of 6 lines:\n",
    "    # 0: 25th percentile, 1: 75th percentile, 2: lower whisker, 3: upper whisker, 4: median, 5: upper extreme value\n",
    "    y = round(lines_train[4+cat*6].get_ydata()[0],1) \n",
    "\n",
    "    ax_train.text(cat, y, f'{y}', ha='center', va='center', fontweight='bold',\n",
    "                  size=10, color='white', bbox=dict(facecolor='#445A64'))\n",
    "\n",
    "# 2nd Subplot\n",
    "ax = fig.add_subplot(1, 2, 2)\n",
    "\n",
    "# Box Plot for Age by Pclass for Test Data\n",
    "ax.set_title('Test Dataset')\n",
    "\n",
    "# Settings to display median values\n",
    "box_plot_test = sns.boxplot(x='Pclass',y='Age',data=test)\n",
    "ax_test = box_plot_test.axes\n",
    "lines_test = ax_test.get_lines()\n",
    "categories_test = ax_test.get_xticks()\n",
    "\n",
    "for cat in categories_test:\n",
    "    # Median line is the 4th line in a range of 6 lines:\n",
    "    # 0: 25th percentile, 1: 75th percentile, 2: lower whisker, 3: upper whisker, 4: median, 5: upper extreme value\n",
    "    y = round(lines_test[4+cat*6].get_ydata()[0],1) \n",
    "\n",
    "    ax_test.text(cat, y, f'{y}', ha='center', va='center', fontweight='bold',\n",
    "                  size=10, color='white', bbox=dict(facecolor='#445A64'))\n"
   ]
  },
  {
   "cell_type": "code",
   "execution_count": null,
   "metadata": {},
   "outputs": [],
   "source": [
    "test.groupby('Pclass')['Age'].median()"
   ]
  },
  {
   "cell_type": "code",
   "execution_count": null,
   "metadata": {},
   "outputs": [],
   "source": [
    "# Histograms for Age\n",
    "\n",
    "# Set Figure Size\n",
    "fig = plt.figure(figsize=(15,5))\n",
    "\n",
    "# 1st Subplot\n",
    "ax = fig.add_subplot(1, 2, 1)\n",
    "\n",
    "# Histogram for Age: Train Dataset\n",
    "ax.set_title('Train Dataset')\n",
    "\n",
    "sns.distplot(train['Age'].dropna(), kde=True, bins=5)\n",
    "\n",
    "# 2nd Subplot\n",
    "ax = fig.add_subplot(1, 2, 2)\n",
    "\n",
    "# Histogram for Age: Test Dataset\n",
    "ax.set_title('Test Dataset')\n",
    "\n",
    "sns.distplot(test['Age'].dropna(), kde=True, bins=5)\n"
   ]
  },
  {
   "cell_type": "markdown",
   "metadata": {
    "_cell_guid": "9933f884-f813-45ad-a05b-f77890e0ddee",
    "_uuid": "e5139afc9f067e1738964b01ed1e78e01ab29dca"
   },
   "source": [
    "From the box plots above, we can fill missing Ages with:\n",
    "* Train: PClass 1 = 37, PClass 2 = 29, PClass 3 = 24\n",
    "* Test: PClass 1 = 42, PClass 2 = 26.5, PClass 3 = 24\n",
    "\n",
    "And from the histograms above, Ages clearly have right-skewed distributions so median is a better measure of central tendency than mean. This is very similar to income distributions, which are also skewed to the right, such that mean will overstate the feature's \"centralness\" while mode will understate the centralness."
   ]
  },
  {
   "cell_type": "markdown",
   "metadata": {},
   "source": [
    "![](https://www.statisticshowto.com/wp-content/uploads/2014/02/pearson-mode-skewness.jpg)"
   ]
  },
  {
   "cell_type": "code",
   "execution_count": null,
   "metadata": {
    "_cell_guid": "514cf25a-29ca-49c2-9333-a4107cb6623c",
    "_uuid": "60f4c6e71ef18c40314496a9aefbc7d6e52913cd"
   },
   "outputs": [],
   "source": [
    "def fill_age_train(cols):\n",
    "    Age = cols[0]\n",
    "    PClass = cols[1]\n",
    "    \n",
    "    if pd.isnull(Age):\n",
    "        if PClass == 1:\n",
    "            return 37\n",
    "        elif PClass == 2:\n",
    "            return 29\n",
    "        else:\n",
    "            return 24\n",
    "    else:\n",
    "        return Age\n",
    "\n",
    "def fill_age_test(cols):\n",
    "    Age = cols[0]\n",
    "    PClass = cols[1]\n",
    "    \n",
    "    if pd.isnull(Age):\n",
    "        if PClass == 1:\n",
    "            return 42\n",
    "        elif PClass == 2:\n",
    "            return 26.5\n",
    "        else:\n",
    "            return 24\n",
    "    else:\n",
    "        return Age"
   ]
  },
  {
   "cell_type": "code",
   "execution_count": null,
   "metadata": {
    "_cell_guid": "a41e2ab6-9f69-4554-80a0-d72744d07805",
    "_uuid": "6e16fc0a7632c5985d242a45e8dd24c1ccee2be8"
   },
   "outputs": [],
   "source": [
    "train['Age'] = train[['Age','Pclass']].apply(fill_age_train,axis=1)\n",
    "test['Age'] = test[['Age','Pclass']].apply(fill_age_test,axis=1)"
   ]
  },
  {
   "cell_type": "markdown",
   "metadata": {
    "_cell_guid": "f47d72e2-3c54-41dd-92e2-ba805cdf8153",
    "_uuid": "bdbd45a33ee824b5ea4211a43d8d01166f108d22",
    "collapsed": true
   },
   "source": [
    "**D.2 Filling Missing Values in Fare, Cabin and Embarked**"
   ]
  },
  {
   "cell_type": "code",
   "execution_count": null,
   "metadata": {
    "_cell_guid": "2594b1a1-a218-4162-9132-a87f84fcba73",
    "_uuid": "42fc153c999baba95ec23545b540175bed5fd19b"
   },
   "outputs": [],
   "source": [
    "test['Fare'].fillna(stat.mode(test['Fare']),inplace=True)\n",
    "train['Embarked'].fillna('S',inplace=True)\n",
    "train['Cabin'].fillna('No Cabin',inplace=True)\n",
    "test['Cabin'].fillna('No Cabin',inplace=True)"
   ]
  },
  {
   "cell_type": "code",
   "execution_count": null,
   "metadata": {
    "_cell_guid": "f0ca0a5e-f550-45be-8fa6-600d78d5594f",
    "_uuid": "816e5002f0d7dc06bdce62ad0081b2af70dc2b06"
   },
   "outputs": [],
   "source": [
    "f,ax = plt.subplots(1,2,figsize=(15,3))\n",
    "sns.heatmap(train.isnull(),yticklabels=False,cbar=False,cmap='viridis',ax=ax[0])\n",
    "sns.heatmap(test.isnull(),yticklabels=False,cbar=False,cmap='viridis',ax=ax[1])"
   ]
  },
  {
   "cell_type": "markdown",
   "metadata": {
    "_cell_guid": "334abab5-9252-4607-a134-511b57390c6a",
    "_uuid": "8dc7a63d9e3396d29f9e9f24e3647359ec3eef44"
   },
   "source": [
    "**ALL CLEARED NOW!** Ready for feature engineering, after we drop Ticket:"
   ]
  },
  {
   "cell_type": "code",
   "execution_count": null,
   "metadata": {
    "_cell_guid": "953727d5-f315-42b9-ae48-17150b80739e",
    "_uuid": "55cc38659b186ee816dbf76a25f661fb8ff37319"
   },
   "outputs": [],
   "source": [
    "train.drop('Ticket',axis=1,inplace=True)\n",
    "test.drop('Ticket',axis=1,inplace=True)"
   ]
  },
  {
   "cell_type": "code",
   "execution_count": null,
   "metadata": {
    "_cell_guid": "9fd40c74-0e17-4add-8c56-c437be92d98e",
    "_uuid": "27bea12476dd1f4c90ffbde406f610536824c0b4"
   },
   "outputs": [],
   "source": [
    "train.head()"
   ]
  },
  {
   "cell_type": "code",
   "execution_count": null,
   "metadata": {},
   "outputs": [],
   "source": [
    "train[\"Name\"][20]"
   ]
  },
  {
   "cell_type": "markdown",
   "metadata": {
    "_cell_guid": "5e17a517-cc9c-4bda-a108-683020e1d94f",
    "_uuid": "43b779feb34e9a7949b4065bf3cc886c0413aba3"
   },
   "source": [
    "**E. FEATURE ENGINEERING**\n",
    "\n",
    "As mentioned in the Summary section above, we will work on **Name, Age, SibSP & Parch, Fare, Cabin**: let's do this!"
   ]
  },
  {
   "cell_type": "code",
   "execution_count": null,
   "metadata": {
    "_cell_guid": "345b840a-d7fb-46f4-b597-d26eaa8cf2c1",
    "_uuid": "dadc8bce5a988cdcc5fe18277760f148cd0f32ec"
   },
   "outputs": [],
   "source": [
    "# Combine Dataset 1st for Feature Engineering\n",
    "\n",
    "train['IsTrain'] = 1\n",
    "test['IsTrain'] = 0\n",
    "df = pd.concat([train,test])"
   ]
  },
  {
   "cell_type": "code",
   "execution_count": null,
   "metadata": {
    "_cell_guid": "6d11c36c-20e5-49f8-b133-32ea128065ff",
    "_uuid": "6d7ec71f71dfb71363156081ccf8941af3d8e33d"
   },
   "outputs": [],
   "source": [
    "# Scaler Initiation\n",
    "\n",
    "scaler = MinMaxScaler()"
   ]
  },
  {
   "cell_type": "markdown",
   "metadata": {
    "_cell_guid": "961d2867-c930-45fc-88a6-527ae7ede0e2",
    "_uuid": "98af5a6dc186a10064bee6d62f83bc290a71bf17"
   },
   "source": [
    "**E.1 Feature Engineering: Name -> Title**"
   ]
  },
  {
   "cell_type": "code",
   "execution_count": null,
   "metadata": {
    "_cell_guid": "97e300fd-c352-49ae-868f-ce6851140b40",
    "_uuid": "fc37abac57ccd24e386a55fc8fa539cfba533893"
   },
   "outputs": [],
   "source": [
    "df['Title'] = df['Name'].str.split(', ').str[1].str.split('.').str[0]\n",
    "df['Title'].value_counts()"
   ]
  },
  {
   "cell_type": "markdown",
   "metadata": {
    "_cell_guid": "320a3e1c-a904-4250-9006-3ef2468fc422",
    "_uuid": "3f134dbc467878bd0c19abb1f3f10268e47937ac"
   },
   "source": [
    "For these rare title, we'll convert them to 'Others', except **Mme** will be converted to Mrs, **Ms and Mlle** to Miss"
   ]
  },
  {
   "cell_type": "code",
   "execution_count": null,
   "metadata": {
    "_cell_guid": "5311fc6a-ed1e-4906-ba50-122eb6ca33c3",
    "_uuid": "65eed813412eaa6ed79c59c61bbe36ea897c9edc"
   },
   "outputs": [],
   "source": [
    "df['Title'].replace('Mme','Mrs',inplace=True)\n",
    "df['Title'].replace(['Ms','Mlle'],'Miss',inplace=True)\n",
    "df['Title'].replace(['Dr','Rev','Col','Major','Dona','Don','Sir','Lady','Jonkheer','Capt','the Countess'],'Others',inplace=True)\n",
    "df['Title'].value_counts()"
   ]
  },
  {
   "cell_type": "code",
   "execution_count": null,
   "metadata": {
    "_cell_guid": "258d6ae5-e73d-4f34-933b-470dd419bea2",
    "_uuid": "042dadba279c03f62f390f818a69857c5d71e3a8"
   },
   "outputs": [],
   "source": [
    "df.drop('Name',axis=1,inplace=True)\n",
    "df.head()"
   ]
  },
  {
   "cell_type": "markdown",
   "metadata": {
    "_cell_guid": "824ea705-d19f-49bc-9b9a-a665da035371",
    "_uuid": "3169e642208bf2009ccc54701f72a756b0963341"
   },
   "source": [
    "**E.2 Feature Engineering: Age -> AgeGroup**"
   ]
  },
  {
   "cell_type": "code",
   "execution_count": null,
   "metadata": {
    "_cell_guid": "4376be05-e423-4ebd-ae3d-617641ba7c2f",
    "_uuid": "60b17b33ce75a2cc08b9493283aa2ca8a97499f7"
   },
   "outputs": [],
   "source": [
    "sns.distplot(df['Age'],bins=5)"
   ]
  },
  {
   "cell_type": "markdown",
   "metadata": {
    "_cell_guid": "eb3db2ac-07e4-4be6-b34b-9041b685d787",
    "_uuid": "67945a33a2ddab196b0833fc9b6111e4d09a4bd0"
   },
   "source": [
    "I'll divide the ages to 5 categories: Children (<=19), Young Adults (>19, <=30), Adults (>30, <=45), Middle Aged (>45, <=63), Seniors (>63), \n",
    "\n",
    "with: **Children = 0, Young Adults = 1, Adults = 2, Middle Aged = 3, Seniors = 4**"
   ]
  },
  {
   "cell_type": "code",
   "execution_count": null,
   "metadata": {
    "_cell_guid": "84d6f567-ce28-446d-9073-04334075585d",
    "_uuid": "4e36f713d6b1d96c6aeb89ce9e429981b1f84ef6"
   },
   "outputs": [],
   "source": [
    "df['AgeGroup'] = df['Age']\n",
    "df.loc[df['AgeGroup']<=19, 'AgeGroup'] = 0\n",
    "df.loc[(df['AgeGroup']>19) & (df['AgeGroup']<=30), 'AgeGroup'] = 1\n",
    "df.loc[(df['AgeGroup']>30) & (df['AgeGroup']<=45), 'AgeGroup'] = 2\n",
    "df.loc[(df['AgeGroup']>45) & (df['AgeGroup']<=63), 'AgeGroup'] = 3\n",
    "df.loc[df['AgeGroup']>63, 'AgeGroup'] = 4"
   ]
  },
  {
   "cell_type": "code",
   "execution_count": null,
   "metadata": {
    "_cell_guid": "3322733d-f28b-4c82-9428-b37dd0f127c4",
    "_uuid": "7d6f635b976d699cad3dffa4a53a384fd4d6c852"
   },
   "outputs": [],
   "source": [
    "sns.countplot(x='AgeGroup',hue='Survived',data=df[df['IsTrain']==1],palette='husl')"
   ]
  },
  {
   "cell_type": "code",
   "execution_count": null,
   "metadata": {
    "_cell_guid": "b6283b39-defa-4db7-813a-2e8a135e0d9e",
    "_uuid": "036b4c6a7ddc26e1a6bcdae42be7ff441085736f"
   },
   "outputs": [],
   "source": [
    "df.drop('Age',axis=1,inplace=True)\n",
    "df.head()"
   ]
  },
  {
   "cell_type": "markdown",
   "metadata": {
    "_cell_guid": "2796c76b-7259-4955-b613-a024eaf88e43",
    "_uuid": "e0379782c58f4ef6b83764df0b7bff48e128fa32"
   },
   "source": [
    "**E.3 Feature Engineering: SibSp & Parch -> IsAlone**"
   ]
  },
  {
   "cell_type": "code",
   "execution_count": null,
   "metadata": {
    "_cell_guid": "836c3aed-e4c9-417d-860f-c3b271a15713",
    "_uuid": "963acf95f3407a304169507f39e233ac9223d736"
   },
   "outputs": [],
   "source": [
    "df['FamilySize'] = df['SibSp'] + df['Parch'] + 1 #himself\n",
    "df['IsAlone'] = 0\n",
    "df.loc[df['FamilySize']==1, 'IsAlone'] = 1"
   ]
  },
  {
   "cell_type": "code",
   "execution_count": null,
   "metadata": {
    "_cell_guid": "35123efe-a781-4594-87f8-df8d050b13f6",
    "_uuid": "28679ab1b39d111260a89465e092f4dcac204719"
   },
   "outputs": [],
   "source": [
    "# Visual Inspection of Survival Rates\n",
    "\n",
    "f,ax = plt.subplots(1,2,figsize=(15,6))\n",
    "sns.countplot(df[df['IsTrain']==1]['FamilySize'],hue=train['Survived'],ax=ax[0],palette='husl')\n",
    "sns.countplot(df[df['IsTrain']==1]['IsAlone'],hue=train['Survived'],ax=ax[1],palette='husl')\n"
   ]
  },
  {
   "cell_type": "markdown",
   "metadata": {
    "_cell_guid": "4769ad58-5253-4abe-a2cc-79a431d7cfe5",
    "_uuid": "78bc458564d47282617857f2ca1b579088e630cc"
   },
   "source": [
    "From the figures above, we can see that if a passenger has family onboard, **the survival rate will increase to approximately 50%.**\n",
    "\n",
    "Since we already have the information using IsAlone feature only, *we'll just drop SibSp, Parch, and FamilySize*"
   ]
  },
  {
   "cell_type": "code",
   "execution_count": null,
   "metadata": {
    "_cell_guid": "02ee9bc8-4e78-40ab-a1c3-4c27ec3613c2",
    "_uuid": "ef60ffd4bf434e186bea8dcd7694ae29e43ffc25"
   },
   "outputs": [],
   "source": [
    "df.drop(['SibSp','Parch','FamilySize'],axis=1,inplace=True)\n",
    "df.head()"
   ]
  },
  {
   "cell_type": "code",
   "execution_count": null,
   "metadata": {
    "_cell_guid": "4192d3d3-7127-4922-a40c-8c41d3421807",
    "_uuid": "9bd4671dea64c7a684b45dd306c64e10ca8999a6"
   },
   "outputs": [],
   "source": [
    "df.head()"
   ]
  },
  {
   "cell_type": "markdown",
   "metadata": {
    "_cell_guid": "d1e566d0-2787-415e-a3d5-870231826130",
    "_uuid": "d2f2e413c84af71cc1f04a22af9a2ee38b78802d"
   },
   "source": [
    "**E.4 Feature Engineering: Cabin -> Deck**"
   ]
  },
  {
   "cell_type": "code",
   "execution_count": null,
   "metadata": {
    "_cell_guid": "14a8bb77-62a4-4e70-83bd-39d9bb57a375",
    "_uuid": "aa41aeee098a588e7bccba09221b115abe14ddcc"
   },
   "outputs": [],
   "source": [
    "df['Deck'] = df['Cabin']\n",
    "df.loc[df['Deck']!='No Cabin','Deck'] = df[df['Cabin']!='No Cabin']['Cabin'].str.split().apply(lambda x: np.sort(x)).str[0].str[0]\n",
    "df.loc[df['Deck']=='No Cabin','Deck'] = 'N/A'"
   ]
  },
  {
   "cell_type": "code",
   "execution_count": null,
   "metadata": {
    "_cell_guid": "861dcf9b-9f8b-49c1-91ae-b215212e7bff",
    "_uuid": "f5de98115a7aebef67ec41b31ea2dd24396be9f0"
   },
   "outputs": [],
   "source": [
    "sns.countplot(x='Deck',hue='Survived',data=df[df['IsTrain']==1],palette='husl')"
   ]
  },
  {
   "cell_type": "markdown",
   "metadata": {
    "_cell_guid": "e80ccf66-2d71-4787-893e-5f9cb5606b67",
    "_uuid": "3379b601e6411b5f73dd641bfa629094b3573711"
   },
   "source": [
    "Well, now we can clearly see the survival rate based on passenger's Deck"
   ]
  },
  {
   "cell_type": "code",
   "execution_count": null,
   "metadata": {
    "_cell_guid": "30f02385-fc52-4cc7-8c72-64a31e495cf3",
    "_uuid": "4e3d857ff97962b022f150eeaf6a3edf427b7985"
   },
   "outputs": [],
   "source": [
    "df.loc[df['Deck']=='N/A', 'Deck'] = 0\n",
    "df.loc[df['Deck']=='G', 'Deck'] = 1\n",
    "df.loc[df['Deck']=='F', 'Deck'] = 2\n",
    "df.loc[df['Deck']=='E', 'Deck'] = 3\n",
    "df.loc[df['Deck']=='D', 'Deck'] = 4\n",
    "df.loc[df['Deck']=='C', 'Deck'] = 5\n",
    "df.loc[df['Deck']=='B', 'Deck'] = 6\n",
    "df.loc[df['Deck']=='A', 'Deck'] = 7\n",
    "df.loc[df['Deck']=='T', 'Deck'] = 0"
   ]
  },
  {
   "cell_type": "code",
   "execution_count": null,
   "metadata": {
    "_cell_guid": "8eeba1bb-3620-40f5-bbe3-efb4a78a6e0e",
    "_uuid": "3264262063e02d2e97a6edf19956144e76fb0770"
   },
   "outputs": [],
   "source": [
    "df.drop('Cabin',axis=1,inplace=True)\n",
    "df.head()"
   ]
  },
  {
   "cell_type": "markdown",
   "metadata": {
    "_cell_guid": "9237a558-62a7-4357-ad94-2b4be5e1fa61",
    "_uuid": "55a9d8d7f8bb4da1045f2155a309a0eca3fdd805"
   },
   "source": [
    "**E.5 Feature Engineering -> Scaling**\n",
    "\n",
    "In this part, any features with level of measurement nominal -> ordinal would be scaled from 0 to 1: they are **Fare, Pclass, and Deck**:"
   ]
  },
  {
   "cell_type": "code",
   "execution_count": null,
   "metadata": {
    "_cell_guid": "c1fbb028-abb9-4c3b-8717-310d8bef74bf",
    "_uuid": "2c1c35096c74db902e860fd790ff49b94e0dfcb3"
   },
   "outputs": [],
   "source": [
    "df[['Fare','Pclass','Deck']] = scaler.fit_transform(df[['Fare','Pclass','Deck']])"
   ]
  },
  {
   "cell_type": "code",
   "execution_count": null,
   "metadata": {
    "_cell_guid": "845ed5b0-d9f3-49a0-84d4-ad565a6afdec",
    "_uuid": "d82f63e3ec8e1182b7889de225bf30f9aca02aec"
   },
   "outputs": [],
   "source": [
    "df.head()"
   ]
  },
  {
   "cell_type": "markdown",
   "metadata": {
    "_cell_guid": "e94fc1f8-662a-4260-a89e-c38321a28b6f",
    "_uuid": "1c2ce9027b3ccc01c4ea87a5e24756460a7f8011"
   },
   "source": [
    "**F. FINAL DATA PREPARATION**\n",
    "\n",
    "We now have all the features. Finally, on data preprocessing, we need to create dummies for categorical data and produce a new DataFrame. The features to preprocess are: **Embarked, Sex, Title, AgeGroup**."
   ]
  },
  {
   "cell_type": "code",
   "execution_count": null,
   "metadata": {
    "_cell_guid": "3a367d54-7031-4d79-967d-45790b77e0e2",
    "_uuid": "582dd4180fa8b57806909f2751964297d720a99c"
   },
   "outputs": [],
   "source": [
    "def process_dummies(df,cols):\n",
    "    for col in cols:\n",
    "        dummies = pd.get_dummies(df[col],prefix=col,drop_first=True)\n",
    "        df = pd.concat([df.drop(col,axis=1),dummies],axis=1)\n",
    "    return df"
   ]
  },
  {
   "cell_type": "code",
   "execution_count": null,
   "metadata": {
    "_cell_guid": "20cac1cd-d9e2-42d0-aa9e-8327e6f038c0",
    "_uuid": "605b61bd10237bf979cb4cb0929d7e4750cbafc1"
   },
   "outputs": [],
   "source": [
    "df = process_dummies(df,['Embarked','Sex','Title','AgeGroup'])"
   ]
  },
  {
   "cell_type": "code",
   "execution_count": null,
   "metadata": {
    "_cell_guid": "ffd7b68b-0d9a-4b52-b2a8-f92823ddcfce",
    "_uuid": "f674cea55e065317c7c193c211440a9ba07b3a10"
   },
   "outputs": [],
   "source": [
    "df.head()"
   ]
  },
  {
   "cell_type": "markdown",
   "metadata": {
    "_cell_guid": "8f0ec972-ee7a-4766-b59f-e30becf53b76",
    "_uuid": "dea9c5dd885727638ee0930b9f96538da9a42234"
   },
   "source": [
    "**F.1 Divide df to train dataset and holdout for final testing purpose**\n",
    "\n",
    "Before we continue to the prediction section, let's divide our data again to **dataset** (formerly train data) and **holdout** (formerly test data):"
   ]
  },
  {
   "cell_type": "code",
   "execution_count": null,
   "metadata": {
    "_cell_guid": "d8820c79-91d4-4283-8453-744e62ee58c5",
    "_uuid": "f4e9106755f5b20c7be8f3fa24ca21fd40930bfb"
   },
   "outputs": [],
   "source": [
    "dataset = df[df['IsTrain']==1]\n",
    "dataset.drop(['IsTrain','PassengerId'],axis=1,inplace=True)\n",
    "holdout = df[df['IsTrain']==0]\n",
    "test_id = holdout['PassengerId']\n",
    "holdout.drop(['IsTrain','PassengerId','Survived'],axis=1,inplace=True)"
   ]
  }
 ],
 "metadata": {
  "kernelspec": {
   "display_name": "Python 3",
   "language": "python",
   "name": "python3"
  },
  "language_info": {
   "codemirror_mode": {
    "name": "ipython",
    "version": 3
   },
   "file_extension": ".py",
   "mimetype": "text/x-python",
   "name": "python",
   "nbconvert_exporter": "python",
   "pygments_lexer": "ipython3",
   "version": "3.7.6"
  }
 },
 "nbformat": 4,
 "nbformat_minor": 4
}